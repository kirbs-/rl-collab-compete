{
 "cells": [
  {
   "cell_type": "markdown",
   "metadata": {},
   "source": [
    "# Collaboration and Competition\n",
    "\n",
    "---\n",
    "\n",
    "In this notebook, you will learn how to use the Unity ML-Agents environment for the third project of the [Deep Reinforcement Learning Nanodegree](https://www.udacity.com/course/deep-reinforcement-learning-nanodegree--nd893) program.\n",
    "\n",
    "### 1. Start the Environment\n",
    "\n",
    "We begin by importing the necessary packages.  If the code cell below returns an error, please revisit the project instructions to double-check that you have installed [Unity ML-Agents](https://github.com/Unity-Technologies/ml-agents/blob/master/docs/Installation.md) and [NumPy](http://www.numpy.org/)."
   ]
  },
  {
   "cell_type": "code",
   "execution_count": 1,
   "metadata": {},
   "outputs": [],
   "source": [
    "from unityagents import UnityEnvironment\n",
    "import numpy as np"
   ]
  },
  {
   "cell_type": "markdown",
   "metadata": {},
   "source": [
    "Next, we will start the environment!  **_Before running the code cell below_**, change the `file_name` parameter to match the location of the Unity environment that you downloaded.\n",
    "\n",
    "- **Mac**: `\"path/to/Tennis.app\"`\n",
    "- **Windows** (x86): `\"path/to/Tennis_Windows_x86/Tennis.exe\"`\n",
    "- **Windows** (x86_64): `\"path/to/Tennis_Windows_x86_64/Tennis.exe\"`\n",
    "- **Linux** (x86): `\"path/to/Tennis_Linux/Tennis.x86\"`\n",
    "- **Linux** (x86_64): `\"path/to/Tennis_Linux/Tennis.x86_64\"`\n",
    "- **Linux** (x86, headless): `\"path/to/Tennis_Linux_NoVis/Tennis.x86\"`\n",
    "- **Linux** (x86_64, headless): `\"path/to/Tennis_Linux_NoVis/Tennis.x86_64\"`\n",
    "\n",
    "For instance, if you are using a Mac, then you downloaded `Tennis.app`.  If this file is in the same folder as the notebook, then the line below should appear as follows:\n",
    "```\n",
    "env = UnityEnvironment(file_name=\"Tennis.app\")\n",
    "```"
   ]
  },
  {
   "cell_type": "code",
   "execution_count": 2,
   "metadata": {},
   "outputs": [
    {
     "name": "stdout",
     "output_type": "stream",
     "text": [
      "Mono path[0] = '/Users/ckirby/Nextcloud/git/rl-collab-compete/Tennis.app/Contents/Resources/Data/Managed'\n",
      "Mono config path = '/Users/ckirby/Nextcloud/git/rl-collab-compete/Tennis.app/Contents/MonoBleedingEdge/etc'\n"
     ]
    },
    {
     "name": "stderr",
     "output_type": "stream",
     "text": [
      "INFO:unityagents:\n",
      "'Academy' started successfully!\n",
      "Unity Academy name: Academy\n",
      "        Number of Brains: 1\n",
      "        Number of External Brains : 1\n",
      "        Lesson number : 0\n",
      "        Reset Parameters :\n",
      "\t\t\n",
      "Unity brain name: TennisBrain\n",
      "        Number of Visual Observations (per agent): 0\n",
      "        Vector Observation space type: continuous\n",
      "        Vector Observation space size (per agent): 8\n",
      "        Number of stacked Vector Observation: 3\n",
      "        Vector Action space type: continuous\n",
      "        Vector Action space size (per agent): 2\n",
      "        Vector Action descriptions: , \n"
     ]
    }
   ],
   "source": [
    "env = UnityEnvironment(file_name=\"Tennis.app\", worker_id=1, seed=1)"
   ]
  },
  {
   "cell_type": "markdown",
   "metadata": {},
   "source": [
    "Environments contain **_brains_** which are responsible for deciding the actions of their associated agents. Here we check for the first brain available, and set it as the default brain we will be controlling from Python."
   ]
  },
  {
   "cell_type": "code",
   "execution_count": 3,
   "metadata": {},
   "outputs": [],
   "source": [
    "# get the default brain\n",
    "brain_name = env.brain_names[0]\n",
    "brain = env.brains[brain_name]"
   ]
  },
  {
   "cell_type": "markdown",
   "metadata": {},
   "source": [
    "### 2. Examine the State and Action Spaces\n",
    "\n",
    "In this environment, two agents control rackets to bounce a ball over a net. If an agent hits the ball over the net, it receives a reward of +0.1.  If an agent lets a ball hit the ground or hits the ball out of bounds, it receives a reward of -0.01.  Thus, the goal of each agent is to keep the ball in play.\n",
    "\n",
    "The observation space consists of 8 variables corresponding to the position and velocity of the ball and racket. Two continuous actions are available, corresponding to movement toward (or away from) the net, and jumping. \n",
    "\n",
    "Run the code cell below to print some information about the environment."
   ]
  },
  {
   "cell_type": "code",
   "execution_count": 4,
   "metadata": {},
   "outputs": [
    {
     "name": "stdout",
     "output_type": "stream",
     "text": [
      "Number of agents: 2\n",
      "Size of each action: 2\n",
      "There are 2 agents. Each observes a state with length: 24\n",
      "The state for the first agent looks like: [ 0.          0.          0.          0.          0.          0.\n",
      "  0.          0.          0.          0.          0.          0.\n",
      "  0.          0.          0.          0.         -6.63803244 -1.5\n",
      " -0.          0.          6.00063038  6.         -0.          0.        ]\n"
     ]
    }
   ],
   "source": [
    "# reset the environment\n",
    "env_info = env.reset(train_mode=True)[brain_name]\n",
    "\n",
    "# number of agents \n",
    "num_agents = len(env_info.agents)\n",
    "print('Number of agents:', num_agents)\n",
    "\n",
    "# size of each action\n",
    "action_size = brain.vector_action_space_size\n",
    "print('Size of each action:', action_size)\n",
    "\n",
    "# examine the state space \n",
    "states = env_info.vector_observations\n",
    "state_size = states.shape[1]\n",
    "print('There are {} agents. Each observes a state with length: {}'.format(states.shape[0], state_size))\n",
    "print('The state for the first agent looks like:', states[0])"
   ]
  },
  {
   "cell_type": "markdown",
   "metadata": {},
   "source": [
    "### 3. Take Random Actions in the Environment\n",
    "\n",
    "In the next code cell, you will learn how to use the Python API to control the agents and receive feedback from the environment.\n",
    "\n",
    "Once this cell is executed, you will watch the agents' performance, if they select actions at random with each time step.  A window should pop up that allows you to observe the agents.\n",
    "\n",
    "Of course, as part of the project, you'll have to change the code so that the agents are able to use their experiences to gradually choose better actions when interacting with the environment!"
   ]
  },
  {
   "cell_type": "code",
   "execution_count": 5,
   "metadata": {},
   "outputs": [],
   "source": [
    "# for i in range(1, 6):                                      # play game for 5 episodes\n",
    "#     env_info = env.reset(train_mode=False)[brain_name]     # reset the environment    \n",
    "#     states = env_info.vector_observations                  # get the current state (for each agent)\n",
    "#     scores = np.zeros(num_agents)                          # initialize the score (for each agent)\n",
    "#     while True:\n",
    "#         actions = np.random.randn(num_agents, action_size) # select an action (for each agent)\n",
    "#         actions = np.clip(actions, -1, 1)                  # all actions between -1 and 1\n",
    "#         env_info = env.step(actions)[brain_name]           # send all actions to tne environment\n",
    "#         next_states = env_info.vector_observations         # get next state (for each agent)\n",
    "#         rewards = env_info.rewards                         # get reward (for each agent)\n",
    "#         dones = env_info.local_done                        # see if episode finished\n",
    "#         scores += env_info.rewards                         # update the score (for each agent)\n",
    "#         states = next_states                               # roll over states to next time step\n",
    "#         if np.any(dones):                                  # exit loop if episode finished\n",
    "#             break\n",
    "#     print('Score (max over agents) from episode {}: {}'.format(i, np.max(scores)))"
   ]
  },
  {
   "cell_type": "markdown",
   "metadata": {},
   "source": [
    "When finished, you can close the environment."
   ]
  },
  {
   "cell_type": "code",
   "execution_count": 6,
   "metadata": {},
   "outputs": [],
   "source": [
    "# env.close()"
   ]
  },
  {
   "cell_type": "markdown",
   "metadata": {},
   "source": [
    "### 4. It's Your Turn!\n",
    "\n",
    "Now it's your turn to train your own agent to solve the environment!  When training the environment, set `train_mode=True`, so that the line for resetting the environment looks like the following:\n",
    "```python\n",
    "env_info = env.reset(train_mode=True)[brain_name]\n",
    "```"
   ]
  },
  {
   "cell_type": "code",
   "execution_count": 7,
   "metadata": {},
   "outputs": [],
   "source": [
    "best_score = 0.0\n",
    "scores = []\n",
    "scores_avg = []\n",
    "solved = None\n",
    "\n",
    "def maddpg(n_episodes=500, max_t=1000, print_every=100):\n",
    "    global best_score\n",
    "    global scores\n",
    "    global scores_avg\n",
    "    global solved\n",
    "    scores_deque = deque(maxlen=print_every)\n",
    "    \n",
    "    for i_episode in range(1, n_episodes+1):\n",
    "        env_info = env.reset(train_mode=True)[brain_name]  # reset the environment\n",
    "        state = env_info.vector_observations\n",
    "        agent.reset()\n",
    "        # score = 0\n",
    "        score = np.zeros(2)\n",
    "        for t in range(max_t):\n",
    "            # print(state)\n",
    "            action = agent.act(state)\n",
    "            # print(action)\n",
    "            env_info = env.step(action)[brain_name]              # send the action to the environment\n",
    "            next_state = env_info.vector_observations            # get the next state\n",
    "            reward = env_info.rewards\n",
    "            # reward = 0.1 if env_info.rewards[0] > 0.0 else 0.0   # get the reward\n",
    "            # print(env_info.rewards)\n",
    "            done = env_info.local_done\n",
    "            agent.step(state[0], action[0], reward[0], next_state[0], done[0])\n",
    "            agent.step(state[1], action[1], reward[1], next_state[1], done[1])\n",
    "            state = next_state\n",
    "            # score += np.max(reward)\n",
    "            score += reward\n",
    "            if np.any(done):\n",
    "                break \n",
    "            # time.sleep(1)\n",
    "            \n",
    "            \n",
    "        # print(score)\n",
    "        score = np.max(score)\n",
    "        scores_deque.append(score)\n",
    "        scores.append(score)\n",
    "        avg_score = np.mean(scores_deque)\n",
    "        scores_avg.append(avg_score)\n",
    "        \n",
    "        if score > best_score:\n",
    "            print('\\rEpisode {}\\tAverage Score: {:.4f}'.format(i_episode, avg_score))\n",
    "            torch.save(agent.policy_actor.state_dict(), 'model_actor-best_score.pth')\n",
    "            torch.save(agent.value_critic.state_dict(), 'model_critic-best_score.pth')\n",
    "            best_score = score\n",
    "        else:\n",
    "            print('\\rEpisode {}\\tAverage Score: {:.4f}'.format(i_episode, avg_score), end=\"\")\n",
    "\n",
    "        if i_episode % print_every == 0:\n",
    "            \n",
    "            try:\n",
    "                critic_loss = agent.critic_losses[-1]\n",
    "            except:\n",
    "                critic_loss = 0.0\n",
    "            print('\\rEpisode {}\\tAverage Score: {:.4f}\\t Critic loss: {:.4f}\\tBuffer: {}'.format(i_episode, avg_score, critic_loss, len(agent.buffer)))\n",
    "            # torch.save(agent.policy_actor.state_dict(), 'model_actor-{}.pth'.format(i_episode))\n",
    "            # torch.save(agent.value_critic.state_dict(), 'model_critic-{}.pth'.format(i_episode))\n",
    "\n",
    "        # if avg_score >= 0.5 and i_episode % 100 == 0:\n",
    "        #     torch.save(agent.policy_actor.state_dict(), 'model_actor-{}.pth'.format(i_episode))\n",
    "        #     torch.save(agent.value_critic.state_dict(), 'model_critic-{}.pth'.format(i_episode))\n",
    "            \n",
    "        if not solved and avg_score >= 0.5: \n",
    "            print('\\rEpisode {}\\tAverage Score: {:.4f}\\tSOLVED'.format(i_episode, avg_score))\n",
    "            solved = True\n",
    "            torch.save(agent.policy_actor.state_dict(), 'model_actor-solved-{}.pth'.format(i_episode))\n",
    "            torch.save(agent.value_critic.state_dict(), 'model_critic-solved-{}.pth'.format(i_episode))\n",
    "            \n",
    "    return scores, scores_avg\n",
    "\n"
   ]
  },
  {
   "cell_type": "code",
   "execution_count": 8,
   "metadata": {},
   "outputs": [
    {
     "name": "stderr",
     "output_type": "stream",
     "text": [
      "/Users/ckirby/.pyenv/versions/dlr/lib/python3.9/site-packages/pandas/compat/__init__.py:124: UserWarning: Could not import the lzma module. Your installed Python is incomplete. Attempting to use lzma compression will result in a RuntimeError.\n",
      "  warnings.warn(msg)\n"
     ]
    }
   ],
   "source": [
    "from agent import Agent, Params\n",
    "import random\n",
    "import torch\n",
    "import numpy as np\n",
    "from collections import deque\n",
    "import matplotlib.pyplot as plt\n",
    "%matplotlib inline"
   ]
  },
  {
   "cell_type": "code",
   "execution_count": 9,
   "metadata": {},
   "outputs": [],
   "source": [
    "AGENT_CNT = 2\n",
    "BATCH_SIZE = 1028\n",
    "GAMMA = 0.99\n",
    "TAU = 1e-3\n",
    "LR_ACTOR = 1e-4\n",
    "LR_CRITIC = 5e-4\n",
    "STATE_DIM = 24\n",
    "ACTION_CNT = 2\n",
    "TARGET_UPDATE_STEP = 50\n",
    "SEED = 0\n",
    "\n",
    "params = Params(AGENT_CNT, BATCH_SIZE, GAMMA, TAU, LR_ACTOR, LR_CRITIC, STATE_DIM, ACTION_CNT, TARGET_UPDATE_STEP, SEED)\n",
    "agent = Agent(params)\n",
    "# scores, scores_avg = ddpg(2000)"
   ]
  },
  {
   "cell_type": "code",
   "execution_count": 27,
   "metadata": {
    "scrolled": true,
    "tags": []
   },
   "outputs": [
    {
     "name": "stderr",
     "output_type": "stream",
     "text": [
      "/Users/ckirby/.pyenv/versions/dlr/lib/python3.9/site-packages/torch/nn/functional.py:1795: UserWarning: nn.functional.tanh is deprecated. Use torch.tanh instead.\n",
      "  warnings.warn(\"nn.functional.tanh is deprecated. Use torch.tanh instead.\")\n",
      "/Users/ckirby/Nextcloud/git/rl-collab-compete/agent.py:172: UserWarning: torch.nn.utils.clip_grad_norm is now deprecated in favor of torch.nn.utils.clip_grad_norm_.\n",
      "  torch.nn.utils.clip_grad_norm(self.value_critic.parameters(), 1)\n"
     ]
    },
    {
     "name": "stdout",
     "output_type": "stream",
     "text": [
      "Episode 100\tAverage Score: 0.0589\t Critic loss: 0.0000\tBuffer: 20000\n",
      "Episode 163\tAverage Score: 0.0615\n",
      "Episode 200\tAverage Score: 0.0610\t Critic loss: 0.0000\tBuffer: 20000\n",
      "Episode 300\tAverage Score: 0.0557\t Critic loss: 0.0000\tBuffer: 20000\n",
      "Episode 400\tAverage Score: 0.0789\t Critic loss: 0.0000\tBuffer: 20000\n",
      "Episode 500\tAverage Score: 0.0852\t Critic loss: 0.0000\tBuffer: 20000\n",
      "Episode 547\tAverage Score: 0.0910\n",
      "Episode 600\tAverage Score: 0.0806\t Critic loss: 0.0000\tBuffer: 20000\n",
      "Episode 681\tAverage Score: 0.0895\n",
      "Episode 700\tAverage Score: 0.0904\t Critic loss: 0.0000\tBuffer: 20000\n",
      "Episode 800\tAverage Score: 0.0996\t Critic loss: 0.0000\tBuffer: 20000\n",
      "Episode 898\tAverage Score: 0.1136\n",
      "Episode 900\tAverage Score: 0.1126\t Critic loss: 0.0000\tBuffer: 20000\n",
      "Episode 989\tAverage Score: 0.1287\n",
      "Episode 1000\tAverage Score: 0.1299\t Critic loss: 0.0000\tBuffer: 20000\n",
      "Episode 1009\tAverage Score: 0.1360\n",
      "Episode 1100\tAverage Score: 0.1518\t Critic loss: 0.0000\tBuffer: 20000\n",
      "Episode 1154\tAverage Score: 0.1398\n",
      "Episode 1200\tAverage Score: 0.1410\t Critic loss: 0.0000\tBuffer: 20000\n",
      "Episode 1300\tAverage Score: 0.1444\t Critic loss: 0.0000\tBuffer: 20000\n",
      "Episode 1400\tAverage Score: 0.1132\t Critic loss: 0.0000\tBuffer: 20000\n",
      "Episode 1500\tAverage Score: 0.1231\t Critic loss: 0.0000\tBuffer: 20000\n",
      "Episode 1600\tAverage Score: 0.1462\t Critic loss: 0.0000\tBuffer: 20000\n",
      "Episode 1700\tAverage Score: 0.1594\t Critic loss: 0.0000\tBuffer: 20000\n",
      "Episode 1800\tAverage Score: 0.1558\t Critic loss: 0.0000\tBuffer: 20000\n",
      "Episode 1900\tAverage Score: 0.1667\t Critic loss: 0.0000\tBuffer: 20000\n",
      "Episode 1961\tAverage Score: 0.1312\n",
      "Episode 2000\tAverage Score: 0.1474\t Critic loss: 0.0000\tBuffer: 20000\n",
      "Episode 2100\tAverage Score: 0.1572\t Critic loss: 0.0000\tBuffer: 20000\n",
      "Episode 2200\tAverage Score: 0.1045\t Critic loss: 0.0000\tBuffer: 20000\n",
      "Episode 2300\tAverage Score: 0.1125\t Critic loss: 0.0000\tBuffer: 20000\n",
      "Episode 2400\tAverage Score: 0.1277\t Critic loss: 0.0000\tBuffer: 20000\n",
      "Episode 2500\tAverage Score: 0.1701\t Critic loss: 0.0000\tBuffer: 20000\n",
      "Episode 2600\tAverage Score: 0.2061\t Critic loss: 0.0000\tBuffer: 20000\n",
      "Episode 2633\tAverage Score: 0.2728\n",
      "Episode 2700\tAverage Score: 0.3670\t Critic loss: 0.0000\tBuffer: 20000\n",
      "Episode 2800\tAverage Score: 0.2525\t Critic loss: 0.0000\tBuffer: 20000\n",
      "Episode 2900\tAverage Score: 0.2185\t Critic loss: 0.0000\tBuffer: 20000\n",
      "Episode 3000\tAverage Score: 0.2955\t Critic loss: 0.0000\tBuffer: 20000\n",
      "Episode 3072\tAverage Score: 0.3875\n",
      "Episode 3100\tAverage Score: 0.4684\t Critic loss: 0.0000\tBuffer: 20000\n",
      "Episode 3109\tAverage Score: 0.5073\tSOLVED\n",
      "Episode 3200\tAverage Score: 0.2777\t Critic loss: 0.0000\tBuffer: 20000\n",
      "Episode 3300\tAverage Score: 0.2330\t Critic loss: 0.0000\tBuffer: 20000\n",
      "Episode 3400\tAverage Score: 0.3877\t Critic loss: 0.0000\tBuffer: 20000\n",
      "Episode 3500\tAverage Score: 0.1678\t Critic loss: 0.0000\tBuffer: 20000\n",
      "Episode 3600\tAverage Score: 0.2270\t Critic loss: 0.0000\tBuffer: 20000\n",
      "Episode 3700\tAverage Score: 0.1904\t Critic loss: 0.0000\tBuffer: 20000\n",
      "Episode 3800\tAverage Score: 0.2016\t Critic loss: 0.0000\tBuffer: 20000\n",
      "Episode 3900\tAverage Score: 0.1875\t Critic loss: 0.0000\tBuffer: 20000\n",
      "Episode 4000\tAverage Score: 0.2119\t Critic loss: 0.0000\tBuffer: 20000\n",
      "Episode 4100\tAverage Score: 0.2344\t Critic loss: 0.0000\tBuffer: 20000\n",
      "Episode 4200\tAverage Score: 0.1215\t Critic loss: 0.0000\tBuffer: 20000\n",
      "Episode 4300\tAverage Score: 0.1034\t Critic loss: 0.0000\tBuffer: 20000\n",
      "Episode 4400\tAverage Score: 0.1055\t Critic loss: 0.0000\tBuffer: 20000\n",
      "Episode 4500\tAverage Score: 0.1106\t Critic loss: 0.0000\tBuffer: 20000\n",
      "Episode 4600\tAverage Score: 0.1358\t Critic loss: 0.0000\tBuffer: 20000\n",
      "Episode 4700\tAverage Score: 0.1232\t Critic loss: 0.0000\tBuffer: 20000\n",
      "Episode 4800\tAverage Score: 0.2646\t Critic loss: 0.0000\tBuffer: 20000\n",
      "Episode 4900\tAverage Score: 0.3390\t Critic loss: 0.0000\tBuffer: 20000\n",
      "Episode 5000\tAverage Score: 0.2941\t Critic loss: 0.0000\tBuffer: 20000\n"
     ]
    }
   ],
   "source": [
    "scores, scores_avg = maddpg(5000)"
   ]
  },
  {
   "cell_type": "code",
   "execution_count": 35,
   "metadata": {},
   "outputs": [
    {
     "data": {
      "image/png": "[encoded data removed]",
      "text/plain": [
       "<Figure size 432x288 with 1 Axes>"
      ]
     },
     "metadata": {
      "needs_background": "light"
     },
     "output_type": "display_data"
    }
   ],
   "source": [
    "fig = plt.figure()\n",
    "ax = fig.add_subplot(111)\n",
    "plt.plot(np.arange(1, len(scores)+1), scores)\n",
    "plt.ylabel('Score')\n",
    "plt.xlabel('Episode #')\n",
    "plt.savefig('plot.png')\n",
    "plt.show()"
   ]
  },
  {
   "cell_type": "code",
   "execution_count": 29,
   "metadata": {},
   "outputs": [
    {
     "data": {
      "text/plain": [
       "20000"
      ]
     },
     "execution_count": 29,
     "metadata": {},
     "output_type": "execute_result"
    }
   ],
   "source": [
    "len(agent.buffer)"
   ]
  },
  {
   "cell_type": "code",
   "execution_count": 30,
   "metadata": {},
   "outputs": [
    {
     "data": {
      "image/png": "[encoded data removed]",
      "text/plain": [
       "<Figure size 432x288 with 1 Axes>"
      ]
     },
     "metadata": {
      "needs_background": "light"
     },
     "output_type": "display_data"
    }
   ],
   "source": [
    "fig = plt.figure()\n",
    "ax = fig.add_subplot(111)\n",
    "plt.plot(np.arange(1, len(agent.actor_losses)+1), agent.actor_losses)\n",
    "plt.ylabel('Score')\n",
    "plt.xlabel('Episode #')\n",
    "plt.savefig('plot.png')\n",
    "plt.show()"
   ]
  },
  {
   "cell_type": "code",
   "execution_count": 31,
   "metadata": {},
   "outputs": [
    {
     "data": {
      "image/png": "[encoded data removed]",
      "text/plain": [
       "<Figure size 432x288 with 1 Axes>"
      ]
     },
     "metadata": {
      "needs_background": "light"
     },
     "output_type": "display_data"
    }
   ],
   "source": [
    "fig = plt.figure()\n",
    "ax = fig.add_subplot(111)\n",
    "plt.plot(np.arange(1, len(agent.critic_losses)+1), agent.critic_losses)\n",
    "plt.ylabel('Score')\n",
    "plt.xlabel('Episode #')\n",
    "plt.savefig('plot.png')\n",
    "plt.show()"
   ]
  },
  {
   "cell_type": "code",
   "execution_count": 15,
   "metadata": {},
   "outputs": [],
   "source": [
    "# Eventually trains after 20k episodes\n",
    "AGENT_CNT = 2\n",
    "BATCH_SIZE = 64\n",
    "GAMMA = 0.95\n",
    "TAU = 1e-3\n",
    "LR_ACTOR = 1e-4\n",
    "LR_CRITIC = 5e-4\n",
    "STATE_DIM = 24\n",
    "ACTION_CNT = 2\n",
    "TARGET_UPDATE_STEP = 5\n",
    "SEED = 0"
   ]
  },
  {
   "cell_type": "code",
   "execution_count": 20,
   "metadata": {},
   "outputs": [],
   "source": [
    "history = []\n",
    "history_avg = []"
   ]
  },
  {
   "cell_type": "code",
   "execution_count": 32,
   "metadata": {},
   "outputs": [],
   "source": [
    "history += scores\n",
    "history_avg += scores_avg"
   ]
  },
  {
   "cell_type": "code",
   "execution_count": null,
   "metadata": {},
   "outputs": [],
   "source": []
  },
  {
   "cell_type": "code",
   "execution_count": 34,
   "metadata": {},
   "outputs": [
    {
     "data": {
      "image/png": "[encoded data removed]",
      "text/plain": [
       "<Figure size 432x288 with 1 Axes>"
      ]
     },
     "metadata": {
      "needs_background": "light"
     },
     "output_type": "display_data"
    }
   ],
   "source": [
    "fig = plt.figure()\n",
    "ax = fig.add_subplot(111)\n",
    "plt.plot(np.arange(1, len(history)+1), history)\n",
    "plt.ylabel('Score')\n",
    "plt.xlabel('Episode #')\n",
    "plt.savefig('plot.png')\n",
    "plt.show()"
   ]
  },
  {
   "cell_type": "code",
   "execution_count": null,
   "metadata": {},
   "outputs": [],
   "source": []
  }
 ],
 "metadata": {
  "kernelspec": {
   "display_name": "dlr",
   "language": "python",
   "name": "dlr"
  },
  "language_info": {
   "codemirror_mode": {
    "name": "ipython",
    "version": 3
   },
   "file_extension": ".py",
   "mimetype": "text/x-python",
   "name": "python",
   "nbconvert_exporter": "python",
   "pygments_lexer": "ipython3",
   "version": "3.9.7"
  }
 },
 "nbformat": 4,
 "nbformat_minor": 4
}

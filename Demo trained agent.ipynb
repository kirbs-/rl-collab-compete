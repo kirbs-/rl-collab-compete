{
 "cells": [
  {
   "cell_type": "code",
   "execution_count": 1,
   "id": "16311896-7572-40d2-965e-972002179c9a",
   "metadata": {},
   "outputs": [
    {
     "name": "stderr",
     "output_type": "stream",
     "text": [
      "/Users/ckirby/.pyenv/versions/dlr/lib/python3.9/site-packages/pandas/compat/__init__.py:124: UserWarning: Could not import the lzma module. Your installed Python is incomplete. Attempting to use lzma compression will result in a RuntimeError.\n",
      "  warnings.warn(msg)\n"
     ]
    }
   ],
   "source": [
    "from agent import Agent, Params\n",
    "import torch"
   ]
  },
  {
   "cell_type": "code",
   "execution_count": 2,
   "id": "c20d53ea-4a91-4976-a852-f0f3020797e2",
   "metadata": {},
   "outputs": [],
   "source": [
    "AGENT_CNT = 2\n",
    "BATCH_SIZE = 1028\n",
    "GAMMA = 0.99\n",
    "TAU = 1e-3\n",
    "LR_ACTOR = 1e-4\n",
    "LR_CRITIC = 5e-4\n",
    "STATE_DIM = 24\n",
    "ACTION_CNT = 2\n",
    "TARGET_UPDATE_STEP = 50\n",
    "SEED = 0\n",
    "\n",
    "params = Params(AGENT_CNT, BATCH_SIZE, GAMMA, TAU, LR_ACTOR, LR_CRITIC, STATE_DIM, ACTION_CNT, TARGET_UPDATE_STEP, SEED)\n",
    "agent = Agent(params)"
   ]
  },
  {
   "cell_type": "code",
   "execution_count": 3,
   "id": "99498f03-6f76-423f-b8ed-9a5069b72f5b",
   "metadata": {},
   "outputs": [
    {
     "data": {
      "text/plain": [
       "<All keys matched successfully>"
      ]
     },
     "execution_count": 3,
     "metadata": {},
     "output_type": "execute_result"
    }
   ],
   "source": [
    "agent.policy_actor.load_state_dict(torch.load('model_actor-solved-3109.pth', map_location=lambda storage, loc: storage))"
   ]
  },
  {
   "cell_type": "code",
   "execution_count": 4,
   "id": "b8b08e0d-8b90-428f-9d70-e5daed1accb6",
   "metadata": {},
   "outputs": [],
   "source": [
    "from unityagents import UnityEnvironment\n",
    "import numpy as np"
   ]
  },
  {
   "cell_type": "code",
   "execution_count": 5,
   "id": "d8f06e56-5622-4499-86f3-149e43f2c9c7",
   "metadata": {},
   "outputs": [
    {
     "name": "stdout",
     "output_type": "stream",
     "text": [
      "Mono path[0] = '/Users/ckirby/Nextcloud/git/rl-collab-compete/Tennis.app/Contents/Resources/Data/Managed'\n",
      "Mono config path = '/Users/ckirby/Nextcloud/git/rl-collab-compete/Tennis.app/Contents/MonoBleedingEdge/etc'\n"
     ]
    },
    {
     "name": "stderr",
     "output_type": "stream",
     "text": [
      "INFO:unityagents:\n",
      "'Academy' started successfully!\n",
      "Unity Academy name: Academy\n",
      "        Number of Brains: 1\n",
      "        Number of External Brains : 1\n",
      "        Lesson number : 0\n",
      "        Reset Parameters :\n",
      "\t\t\n",
      "Unity brain name: TennisBrain\n",
      "        Number of Visual Observations (per agent): 0\n",
      "        Vector Observation space type: continuous\n",
      "        Vector Observation space size (per agent): 8\n",
      "        Number of stacked Vector Observation: 3\n",
      "        Vector Action space type: continuous\n",
      "        Vector Action space size (per agent): 2\n",
      "        Vector Action descriptions: , \n"
     ]
    }
   ],
   "source": [
    "env = UnityEnvironment(file_name=\"Tennis.app\", worker_id=1, seed=1)"
   ]
  },
  {
   "cell_type": "code",
   "execution_count": 6,
   "id": "98428df3-af93-444b-b376-eda120ed6f74",
   "metadata": {},
   "outputs": [],
   "source": [
    "# get the default brain\n",
    "brain_name = env.brain_names[0]\n",
    "brain = env.brains[brain_name]"
   ]
  },
  {
   "cell_type": "code",
   "execution_count": 9,
   "id": "38467356-ec1c-466e-93d9-48a8eaa7c64e",
   "metadata": {},
   "outputs": [
    {
     "name": "stdout",
     "output_type": "stream",
     "text": [
      "Final Score: [1.70000003 1.59000002]\n"
     ]
    }
   ],
   "source": [
    "# Play the trained Agent\n",
    "env_info = env.reset(train_mode=False)[brain_name] # reset the environment\n",
    "states = env_info.vector_observations              # get the current state\n",
    "scores = np.zeros(2)                      # initialize the score\n",
    "\n",
    "#while True:\n",
    "for _ in range(5000):\n",
    "    actions = agent.act(states)                     # select an action     \n",
    "    env_info = env.step(actions)[brain_name]        # send the action to the environment                  \n",
    "    next_states = env_info.vector_observations      # get the next state \n",
    "    rewards = env_info.rewards                      # get the reward\n",
    "    dones = env_info.local_done                     # see if episode has finished\n",
    "    \n",
    "    scores += rewards                               # update the score\n",
    "    states = next_states                            # roll over the state to next time step\n",
    "    if np.any(dones):\n",
    "        break \n",
    "    \n",
    "print(\"Final Score: {}\".format(scores))\n",
    "\n",
    "# env.close()\n",
    "\n"
   ]
  },
  {
   "cell_type": "code",
   "execution_count": 10,
   "id": "629d32e6-43e9-44c4-9939-265b4c5e251d",
   "metadata": {},
   "outputs": [],
   "source": [
    "env.close()"
   ]
  },
  {
   "cell_type": "code",
   "execution_count": null,
   "id": "571e5372-9207-435d-8f31-f3192f34ed42",
   "metadata": {},
   "outputs": [],
   "source": []
  }
 ],
 "metadata": {
  "kernelspec": {
   "display_name": "dlr",
   "language": "python",
   "name": "dlr"
  },
  "language_info": {
   "codemirror_mode": {
    "name": "ipython",
    "version": 3
   },
   "file_extension": ".py",
   "mimetype": "text/x-python",
   "name": "python",
   "nbconvert_exporter": "python",
   "pygments_lexer": "ipython3",
   "version": "3.9.7"
  }
 },
 "nbformat": 4,
 "nbformat_minor": 5
}
